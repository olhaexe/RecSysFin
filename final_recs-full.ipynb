{
 "cells": [
  {
   "cell_type": "markdown",
   "metadata": {},
   "source": [
    "# Финальный проект\n",
    "Мы уже прошли всю необходимую теорию для финального проекта. Проект осуществляется на данных из вебинара (данные считаны в начале ДЗ). Рекомендуем вам начать делать проект уже сейчас\n",
    "\n",
    "Целевая метрика - money precision@5. Порог для уcпешной сдачи проекта money precision@5 > 20%\n",
    "Бизнес ограничения в топ-5 товарах:\n",
    "\n",
    "- Для каждого юзера 5 рекомендаций (иногда модели могут возвращать < 5)\n",
    "\n",
    "- 2 новых товара (юзер никогда не покупал)\n",
    "\n",
    "- 1 дорогой товар, > 7 долларов (price = sum(sales_value) / sum(quantity))\n",
    "\n",
    "- Все товары из разных категорий (категория - sub_commodity_desc)\n",
    "\n",
    "- Стоимость каждого рекомендованного товара > 1 доллара (price = sum(sales_value) / sum(quantity))\n",
    "\n",
    "- НЕТ ограничения на СТМ\n",
    "\n",
    "- Вам нужно добавить обрааботку холодных юзеров (рекомендовать им топ-5 популярных товаров)\n",
    "\n",
    "- Будет public тестовый датасет, на котором вы сможете измерять метрику\n",
    "\n",
    "- Также будет private тестовый датасет для измерения финального качества\n",
    "\n",
    "- НЕ обязательно использовать 2-ух уровневые рекоммендательные системы в проекте\n",
    "\n",
    "- Вы сдаете код проекта в виде github репозитория и .csv файл с рекомендациями. В .csv файле 2 столбца: user_id - (item_id1, item_id2, ..., item_id5)\n",
    "\n",
    "Дедлайн - 4 октября 23:59\n",
    "\n",
    "Бейзлайн можно найти на github"
   ]
  },
  {
   "cell_type": "markdown",
   "metadata": {},
   "source": [
    "# Подключение библиотек и скриптов"
   ]
  },
  {
   "cell_type": "code",
   "execution_count": 1,
   "metadata": {},
   "outputs": [],
   "source": [
    "import pandas as pd\n",
    "import numpy as np\n",
    "\n",
    "from implicit.als import AlternatingLeastSquares\n",
    "from implicit.bpr import BayesianPersonalizedRanking ### !!!! Пользуйтесь в финальном проекте\n",
    "\n",
    "from implicit.nearest_neighbours import ItemItemRecommender, CosineRecommender, TFIDFRecommender, BM25Recommender, bm25_weight, tfidf_weight\n",
    "\n",
    "# Для работы с матрицами\n",
    "from scipy.sparse import csr_matrix, coo_matrix\n",
    "\n",
    "import os, sys\n",
    "module_path = os.path.abspath(os.path.join(os.pardir))\n",
    "if module_path not in sys.path:\n",
    "    sys.path.append(module_path)\n",
    "\n",
    "np.random.seed(42)"
   ]
  },
  {
   "cell_type": "markdown",
   "metadata": {},
   "source": [
    "# Функции"
   ]
  },
  {
   "cell_type": "code",
   "execution_count": 2,
   "metadata": {},
   "outputs": [],
   "source": [
    "# src.metrics\n",
    "# целевая метрика\n",
    "def money_precision_at_k(recommended_list, bought_list, prices_dict, k=5):\n",
    "        \n",
    "    bought_list = np.array(bought_list)\n",
    "    recommended_list = np.array(recommended_list)\n",
    "    \n",
    "    if k < len(recommended_list):\n",
    "        recommended_list = recommended_list[:k]\n",
    "        \n",
    "    prices_recommended = np.array([prices_dict[i] for i in recommended_list])\n",
    "    \n",
    "    flags = np.isin(recommended_list, bought_list)\n",
    "    \n",
    "    precision = (flags*prices_recommended).sum() / prices_recommended.sum()\n",
    "    \n",
    "    return precision"
   ]
  },
  {
   "cell_type": "code",
   "execution_count": 3,
   "metadata": {},
   "outputs": [],
   "source": [
    "# src.utils\n",
    "def prefilter_items(data,\n",
    "                    item_features=None,\n",
    "                    resent_weeks=12, \n",
    "                    filter_frequency=False, \n",
    "                    cheap_filter=False,\n",
    "                    rare_department_filter=False,\n",
    "                    popular_filter=True, \n",
    "                    take_n_popular=5000):\n",
    "    \"\"\"Предфильтрация товаров\"\"\"\n",
    "    \n",
    "    # Уберем товары с нулевым количеством и выручкой\n",
    "    data = data[data['quantity'] != 0]\n",
    "    data = data[data['sales_value'] != 0]\n",
    "    \n",
    "    prices = data.groupby('item_id').agg({\n",
    "        'sales_value' : 'sum', \n",
    "        'quantity': 'sum'\n",
    "    }).reset_index()\n",
    "    \n",
    "    prices['price'] = prices['sales_value'] / prices['quantity']\n",
    "    #prices.loc[prices['quantity'] == 0, 'price'] = 0\n",
    "\n",
    "    # 1. Удаление малоценных товаров \n",
    "    low = prices[prices['price'] <= 1]\n",
    "    low_list = low['item_id'].tolist()\n",
    "    data = data[~data['item_id'].isin(low_list)]\n",
    "\n",
    "    # 2. Удаление товаров со слишком большой ценой > 50$\n",
    "    high = prices[prices['price'] > 50]\n",
    "    high_list = high['item_id'].tolist()\n",
    "    data = data[~data['item_id'].isin(high_list)]\n",
    "    \n",
    "    # Уберем товары, где дисконт больше 0 (наценка или ошибка?)\n",
    "    data = data[data['retail_disc'] <= 0]\n",
    "                \n",
    "    # Уберем товары, где купонный дисконт -10 и ниже (разово купили по купону и вряд ли купят еще)\n",
    "    data = data[data['coupon_disc'] > -10]\n",
    "    \n",
    "    # Уберем товары, которые не продавались за последние несколько недель\n",
    "    if resent_weeks != 0:\n",
    "        weeks = data.groupby('item_id')['week_no'].last().reset_index()\n",
    "        weeks = weeks[weeks['week_no'] > (96 - resent_weeks)]\n",
    "        sales_items = weeks['item_id'].tolist()\n",
    "        data = data[data['item_id'].isin(sales_items)]\n",
    "    \n",
    "    # Уберем товары с низкой частотой покупки\n",
    "    if filter_frequency:\n",
    "        num_users = data['user_id'].nunique()\n",
    "        frequency = data.groupby('item_id')['user_id'].nunique().reset_index() \n",
    "        frequency.rename(columns={'user_id': 'buyers'}, inplace=True)\n",
    "        frequency['part_buyers']=frequency['buyers']/num_users\n",
    "        top_frequency  = frequency[frequency['part_buyers'] > 0.01].item_id.tolist()\n",
    "        data = data[data['item_id'].isin(top_frequency)]\n",
    "\n",
    "    # Уберем не интересные для рекомендаций категории (department)\n",
    "    if item_features is not None:\n",
    "        # Уберем сезонные товары\n",
    "        items_in_seasons_comms = item_features[item_features['commodity_desc'].isin(['SPRING/SUMMER SEASONAL', 'HALLOWEEN', 'CHRISTMAS  SEASONAL', 'SEASONAL', 'FALL AND WINTER SEASONAL'])].item_id.unique().tolist()\n",
    "        data = data[~data['item_id'].isin(items_in_seasons_comms)]\n",
    "        \n",
    "        del_deps = [' ', 'FLORAL', 'GM MERCH EXP', 'CHARITABLE CONT', 'ELECT &PLUMBING', 'TOYS', 'HOUSEWARES', 'VIDEO RENTAL', \n",
    "                    'PROD-WHS SALES', 'DAIRY DELI', 'CNTRL/STORE SUP', 'PHOTO', 'VIDEO', 'PORK', 'GRO BAKERY', 'HBC',\n",
    "                    'AUTOMOTIVE', 'RX', 'CNTRL/STORE SUP', 'GM MERCH EXP', 'TRAVEL & LEISUR', 'FROZEN GROCERY', 'RESTAURANT',\n",
    "                    'COUP/STR & MFG', 'CHEF SHOPPE', 'SPIRITS',  'DELI/SNACK BAR', 'PHARMACY SUPPLY', 'MEAT-WHSE', 'SEAFOOD',\n",
    "                    'MISC SALES TRAN']\n",
    "        \n",
    "        items_del_deps = item_features[item_features['department'].isin(del_deps)].item_id.unique().tolist()\n",
    "        data = data[~data['item_id'].isin(items_del_deps)]\n",
    "        \n",
    "        if cheap_filter:\n",
    "            # уберем товары из дешевых категорий\n",
    "            item_features = item_features.merge(prices, on='item_id', how='left')\n",
    "            subcomms = item_features.groupby('sub_commodity_desc')['price'].mean().reset_index()\n",
    "            valuable_subcomms = subcomms[subcomms['price'] > 4]['sub_commodity_desc'].unique().tolist()\n",
    "  \n",
    "            items_in_valuable_subcomms = item_features[item_features['commodity_desc'].isin(valuable_subcomms)]['item_id'].unique().tolist()\n",
    "            data = data[data['item_id'].isin(items_in_valuable_subcomms)]\n",
    "            department_size = pd.DataFrame(item_features.\\\n",
    "                                        groupby('department')['item_id'].nunique().\\\n",
    "                                        sort_values(ascending=False)).reset_index()\n",
    "            \n",
    "            #уберем редко встречающиеся категории\n",
    "        if rare_department_filter:\n",
    "            department_size = pd.DataFrame(item_features.\\\n",
    "                                        groupby('department')['item_id'].nunique().\\\n",
    "                                        sort_values(ascending=False)).reset_index()\n",
    "            department_size.columns = ['department', 'n_items']\n",
    "            rare_departments = department_size[department_size['n_items'] < 300].department.tolist()\n",
    "            items_in_rare_departments = item_features[item_features['department'].isin(rare_departments)].item_id.unique().tolist()\n",
    "\n",
    "            data = data[~data['item_id'].isin(items_in_rare_departments)]\n",
    "                  \n",
    "    # 4. Выбор топ-N самых популярных товаров (N = take_n_popular)\n",
    "    if popular_filter:\n",
    "        popularity_sales = data.groupby('item_id').agg({\n",
    "            'sales_value' : 'sum', \n",
    "            'user_id': 'count'\n",
    "            }).reset_index()\n",
    "        popularity_sales = popularity_sales[popularity_sales['user_id'] > 2]\n",
    "        popularity_sales.sort_values('sales_value', ascending=False, inplace=True)\n",
    "        n_popular = popularity_sales['item_id'][:take_n_popular].tolist()\n",
    "\n",
    "        # Заведем фиктивный item_id (если юзер не покупал товары из топ-5000, то он \"купил\" такой товар)\n",
    "        data.loc[~data['item_id'].isin(n_popular), 'item_id'] = 9999999\n",
    "        n_popular.append(9999999)\n",
    "\n",
    "        data = data[data['item_id'].isin(n_popular)]\n",
    "\n",
    "    return data"
   ]
  },
  {
   "cell_type": "code",
   "execution_count": 4,
   "metadata": {},
   "outputs": [],
   "source": [
    "def postfilter_items(recommendations, \n",
    "                     user_id,\n",
    "                     vip_users,\n",
    "                     train_bought_items_dict, \n",
    "                     top_popular_items,\n",
    "                     overall_top_expensive_purchases,\n",
    "                     top_expensive_item,\n",
    "                     item_features, \n",
    "                     prices_dict, \n",
    "                     N=5, \n",
    "                     money_rank=False,\n",
    "                     divide_users=True):\n",
    "    \"\"\"Постфильтрация товаров\"\"\"\n",
    "\n",
    "    # Уникальность\n",
    "    #     recommendations = list(set(recommendations)) - неверно! так теряется порядок\n",
    "    unique_recommendations = []\n",
    "    [unique_recommendations.append(item) for item in recommendations if item not in unique_recommendations]\n",
    "    \n",
    "    # возможность ранжирования всех предсказаний по цене\n",
    "    if money_rank:\n",
    "        prices_unique_recommendations = [prices_dict[item] for item in unique_recommendations]\n",
    "        recommended_prises_dict = dict(zip(unique_recommendations, prices_unique_recommendations))\n",
    "        unique_recommendations = sorted(recommended_prises_dict, key=lambda x: recommended_prises_dict.get(x), reverse=True)\n",
    "    \n",
    "    # ранжируем только покупателей с высоким средним чеком - это работает\n",
    "    if divide_users:\n",
    "        if user_id in vip_users:\n",
    "            prices_unique_recommendations = [prices_dict[item] for item in unique_recommendations]\n",
    "            recommended_prises_dict = dict(zip(unique_recommendations, prices_unique_recommendations))\n",
    "            unique_recommendations = sorted(recommended_prises_dict, key=lambda x: recommended_prises_dict.get(x), reverse=True)\n",
    "    \n",
    "    # Разные категории\n",
    "    categories_used = []\n",
    "    final_recommendations = []\n",
    "    CATEGORY_NAME = 'sub_commodity_desc'\n",
    "    \n",
    "    # 1 дорогой товар, > 7 долларов\n",
    "    expensive_list = []\n",
    "            \n",
    "    for key in prices_dict.keys():\n",
    "        if prices_dict[key] > 7:\n",
    "            expensive_list.append(key)\n",
    "            \n",
    "    if user_id in train_bought_items_dict.keys():\n",
    "        train_bought_items_list = train_bought_items_dict[user_id]\n",
    "    else:\n",
    "        train_bought_items_list = []\n",
    "\n",
    "    #expensive_new_list = [item for item in expensive_list if item not in train_bought_items_list]\n",
    "    # берем несколько самых популярных товаров от 7 до 8 долл\n",
    "    expensive_list_recs = []\n",
    "     # в первую очередь дополняем товарами из рекомендованных\n",
    "    [expensive_list_recs.append(item) for item in unique_recommendations if item in expensive_list]\n",
    "    # дополняем популярными дорогими\n",
    "    [expensive_list_recs.append(item) for item in overall_top_expensive_purchases if item not in expensive_list_recs]\n",
    "    \n",
    "    expensive_item = expensive_list_recs[0]         \n",
    "    category = item_features.loc[item_features['item_id'] == expensive_item, CATEGORY_NAME].values[0]\n",
    "    if category not in categories_used:\n",
    "        final_recommendations.append(expensive_item)\n",
    "        categories_used.append(category)\n",
    "    \n",
    "    if expensive_item in unique_recommendations:\n",
    "        unique_recommendations.remove(expensive_item)\n",
    "        \n",
    "    # 2 новых товара (юзер никогда не покупал)    \n",
    "    new_rec_list = [item for item in unique_recommendations if item not in train_bought_items_list]\n",
    "    top_popular_items_not_from_recs = [item for item in top_popular_items if item not in unique_recommendations]\n",
    "    new_popular = [item for item in top_popular_items_not_from_recs if item not in train_bought_items_list]\n",
    "    # выбираем наиболее дешевые\n",
    "    prices_new_popular = [prices_dict[item] for item in new_popular]\n",
    "    new_popular_prises_dict = dict(zip(new_popular, prices_new_popular))\n",
    "    new_popular = sorted(new_popular, key=lambda x: new_popular_prises_dict.get(x), reverse=False)\n",
    "    \n",
    "    new_items = []\n",
    "    if new_rec_list:\n",
    "        for item in new_rec_list:\n",
    "            category = item_features.loc[item_features['item_id'] == item, CATEGORY_NAME].values[0]\n",
    "            if category not in categories_used:\n",
    "                new_items.append(item)\n",
    "                categories_used.append(category)\n",
    "            if len(new_items) == 2:\n",
    "                break\n",
    "    if len(new_items) < 2:\n",
    "        if new_popular:\n",
    "            for item in new_popular:\n",
    "                category = item_features.loc[item_features['item_id'] == item, CATEGORY_NAME].values[0]\n",
    "                if category not in categories_used:\n",
    "                    new_items.append(item)\n",
    "                    categories_used.append(category)\n",
    "                if len(new_items) == 2:\n",
    "                    break\n",
    "    if len(new_items) < 2:\n",
    "        new_list = [item for item in item_features['item_id'].unique() if item not in train_bought_items_list]\n",
    "        for item in new_list:\n",
    "                category = item_features.loc[item_features['item_id'] == item, CATEGORY_NAME].values[0]\n",
    "                if category not in categories_used:\n",
    "                    new_items.append(item)\n",
    "                    categories_used.append(category)\n",
    "                if len(new_items) == 2:\n",
    "                    break\n",
    "    \n",
    "    if final_recommendations[0] in train_bought_items_list:\n",
    "        new_items = new_items[:2]\n",
    "    else:\n",
    "        new_items = new_items[:1]\n",
    "    for new_item in new_items:\n",
    "        if new_item not in final_recommendations:\n",
    "            final_recommendations.append(new_item)\n",
    "            \n",
    "        if new_item in unique_recommendations:\n",
    "            unique_recommendations.remove(new_item)\n",
    "            \n",
    "    if unique_recommendations:\n",
    "        for item in unique_recommendations:\n",
    "            category = item_features.loc[item_features['item_id'] == item, CATEGORY_NAME].values[0]\n",
    "\n",
    "            if category not in categories_used:\n",
    "                final_recommendations.append(item)\n",
    "                unique_recommendations.remove(item)\n",
    "                categories_used.append(category)\n",
    "            if len(final_recommendations) >= N:\n",
    "                break\n",
    "\n",
    "        # Для каждого юзера 5 рекомендаций (иногда модели могут возвращать < 5)\n",
    "    n_rec = len(final_recommendations)\n",
    "    if n_rec < N:\n",
    "        # Более корректно их нужно дополнить топом популярных (например)\n",
    "        for item in top_popular_items:\n",
    "            category = item_features.loc[item_features['item_id'] == item, CATEGORY_NAME].values[0]\n",
    "            \n",
    "            if category not in categories_used:\n",
    "                if item not in final_recommendations:\n",
    "                    final_recommendations.append(item)\n",
    "                    categories_used.append(category)\n",
    "            if len(final_recommendations) >= N:\n",
    "                break\n",
    "        #final_recommendations.extend(top_popular_items[:N - n_rec])\n",
    "    \n",
    "    final_recommendations = final_recommendations[:N]\n",
    "\n",
    "    assert len(final_recommendations) == N, 'Количество рекомендаций != {}'.format(N)\n",
    "\n",
    "    return final_recommendations"
   ]
  },
  {
   "cell_type": "code",
   "execution_count": 5,
   "metadata": {},
   "outputs": [],
   "source": [
    "# src.recommenders\n",
    "class MainRecommender:\n",
    "    \"\"\"Рекоммендации, которые можно получить из ALS\n",
    "\n",
    "    Input\n",
    "    -----\n",
    "    user_item_matrix: pd.DataFrame\n",
    "        Матрица взаимодействий user-item\n",
    "    \"\"\"\n",
    "\n",
    "    def __init__(self, data, item_features, user_features, filter_ctm=False, weighting=True):\n",
    "        \n",
    "        self.vip_users = self._get_vip_users(data)\n",
    "        self.high_mean_cheque_users = self._get_high_mean_cheque_users(data)\n",
    "\n",
    "        # Топ покупок каждого юзера\n",
    "        self.top_purchases = data.groupby(['user_id', 'item_id']).agg({\n",
    "            'sales_value' : 'sum', \n",
    "            'quantity': 'sum',\n",
    "            'basket_id': 'count'\n",
    "            }).reset_index()\n",
    "        self.top_purchases = self.top_purchases[self.top_purchases['item_id'] != 9999999]\n",
    "        self.top_purchases = self.top_purchases[self.top_purchases['basket_id'] > 1]\n",
    "        self.top_purchases['price'] = self.top_purchases['sales_value'] / self.top_purchases['quantity']\n",
    "        #self.top_purchases = self.top_purchases[self.top_purchases['price'] > 4]\n",
    "        self.top_purchases.sort_values(['basket_id', 'price'], ascending=False, inplace=True)\n",
    "\n",
    "        # Топ покупок по всему датасету\n",
    "        self.overall_top_purchases = data.groupby('item_id')['basket_id'].count().reset_index()\n",
    "        self.overall_top_purchases.sort_values('basket_id', ascending=False, inplace=True)\n",
    "        self.overall_top_purchases = self.overall_top_purchases[self.overall_top_purchases['item_id'] != 9999999]\n",
    "        self.overall_top_purchases = self.overall_top_purchases.item_id.tolist()\n",
    "        \n",
    "        # Топ дорогих покупок по всему датасету\n",
    "        self.overall_top_expensive_items = data.groupby('item_id').agg({\n",
    "            'sales_value' : 'sum', \n",
    "            'quantity': 'sum',\n",
    "            'basket_id': 'count',\n",
    "            'user_id' : 'nunique'\n",
    "            }).reset_index()\n",
    "        self.overall_top_expensive_items['price'] = self.overall_top_expensive_items['sales_value'] / self.overall_top_expensive_items['quantity']\n",
    "        self.overall_top_expensive_items = self.overall_top_expensive_items[self.overall_top_expensive_items['price'] > 7]\n",
    "        self.overall_top_expensive_items = self.overall_top_expensive_items[self.overall_top_expensive_items['item_id'] != 9999999]\n",
    "        self.overall_top_expensive_items.sort_values('user_id', ascending=False, inplace=True)\n",
    "        self.overall_top_expensive_items = self.overall_top_expensive_items.reset_index()\n",
    "        \n",
    "        # топовый товар\n",
    "        self.top_expensive_item = self.overall_top_expensive_items['item_id'][0]\n",
    "        \n",
    "        # если пользователь раньше не покупал дорогих товаров, мы вряд ли угадаем, поэтому оставим только товары с минимальной подходящей ценой\n",
    "        self.overall_top_expensive_items = self.overall_top_expensive_items[self.overall_top_expensive_items['price'] < 7.1] \n",
    "        self.overall_top_expensive_purchases = self.overall_top_expensive_items.item_id.tolist()\n",
    "\n",
    "        self.user_item_matrix, self.matrix_index, self.matrix_columns = self._prepare_matrix(data)  # pd.DataFrame\n",
    "        self.id_to_itemid, self.id_to_userid, \\\n",
    "            self.itemid_to_id, self.userid_to_id = self._prepare_dicts(self.user_item_matrix)\n",
    "        \n",
    "        self.user_feat_lightfm, self.item_feat_lightfm, \\\n",
    "            self.user_feat_values, self.item_feat_values = self._prepare_lightfm_features(self.matrix_index, self.matrix_columns, user_features, item_features)\n",
    "        \n",
    "        self.item_id_to_ctm = self._prepare_ctm_dict(item_features)\n",
    "        \n",
    "        self.prices_dict = self._prepare_prices_dict(data)\n",
    "        self.bought_items_dict = self._prepare_bought_items_dict(data)\n",
    "\n",
    "        if weighting:#=='bm25_weight':\n",
    "            self.user_item_matrix = bm25_weight(self.user_item_matrix.T).T\n",
    "        \n",
    "        #if weighting:#=='tfidf_weight':\n",
    "         #   self.user_item_matrix = tfidf_weight(self.user_item_matrix.T).T\n",
    "\n",
    "        self.model_als = self.fit_als(self.user_item_matrix)\n",
    "        self.model_bpr = self.fit_bpr(self.user_item_matrix)\n",
    "       # self.model_lightfm = self.fit_lightfm(self.user_item_matrix, self.user_feat_values, self.item_feat_values)\n",
    "        self.own_recommender = self.fit_own_recommender(self.user_item_matrix)\n",
    "        self.knn_recommender = self.fit_knn_recommender(self.user_item_matrix)\n",
    "        self.cosine_recommender = self.fit_cosine_recommender(self.user_item_matrix)\n",
    "        self.tfidf_recommender = self.fit_tfidf_recommender(self.user_item_matrix)\n",
    "\n",
    "    @staticmethod\n",
    "    def _prepare_matrix(data):\n",
    "        \"\"\"Готовит user-item матрицу\"\"\"\n",
    "        user_item_matrix = pd.pivot_table(data,\n",
    "                                          index='user_id', columns='item_id',\n",
    "                                          values='basket_id',  # Можно пробовать другие варианты\n",
    "                                          aggfunc='count',\n",
    "                                          fill_value=0\n",
    "                                          )\n",
    "\n",
    "        user_item_matrix = user_item_matrix.astype(float)  # необходимый тип матрицы для implicit\n",
    "        \n",
    "        matrix_index = user_item_matrix.index\n",
    "        matrix_columns = user_item_matrix.columns\n",
    "\n",
    "        return user_item_matrix, matrix_index, matrix_columns\n",
    "    \n",
    "    @staticmethod\n",
    "    def _prepare_lightfm_features(matrix_index, matrix_columns, user_features, item_features):\n",
    "        user_feat = pd.DataFrame(matrix_index)\n",
    "        user_feat = user_feat.merge(user_features, on='user_id', how='left')\n",
    "        user_feat.set_index('user_id', inplace=True)\n",
    "\n",
    "        item_feat = pd.DataFrame(matrix_columns)\n",
    "        item_feat = item_feat.merge(item_features, on='item_id', how='left')\n",
    "        item_feat.set_index('item_id', inplace=True)\n",
    "        \n",
    "        user_feat_lightfm = pd.get_dummies(user_feat, columns=user_feat.columns.tolist())\n",
    "        item_feat_lightfm = pd.get_dummies(item_feat, columns=item_feat.columns.tolist())\n",
    "        \n",
    "        user_feat_values = user_feat_lightfm.values\n",
    "        item_feat_values = user_feat_lightfm.values\n",
    "        \n",
    "        return user_feat_lightfm, item_feat_lightfm, user_feat_values, item_feat_values\n",
    "           \n",
    "    @staticmethod\n",
    "    def _prepare_dicts(user_item_matrix):\n",
    "        \"\"\"Подготавливает вспомогательные словари\"\"\"\n",
    "\n",
    "        userids = user_item_matrix.index.values\n",
    "        itemids = user_item_matrix.columns.values\n",
    "\n",
    "        matrix_userids = np.arange(len(userids))\n",
    "        matrix_itemids = np.arange(len(itemids))\n",
    "\n",
    "        id_to_itemid = dict(zip(matrix_itemids, itemids))\n",
    "        id_to_userid = dict(zip(matrix_userids, userids))\n",
    "\n",
    "        itemid_to_id = dict(zip(itemids, matrix_itemids))\n",
    "        userid_to_id = dict(zip(userids, matrix_userids))\n",
    "\n",
    "        return id_to_itemid, id_to_userid, itemid_to_id, userid_to_id\n",
    "    \n",
    "    # Словарь СТМ\n",
    "    @staticmethod\n",
    "    def _prepare_ctm_dict(item_features):\n",
    "            # Словарь {item_id: 0/1}. 0/1 - факт принадлежности товара к СТМ\n",
    "        item_id_to_ctm = {}\n",
    "        for i in range(item_features.shape[0]):\n",
    "            if item_features['brand'][i] == 'Private':\n",
    "                item_id_to_ctm[item_features['item_id'][i]] = 1\n",
    "            else:\n",
    "                item_id_to_ctm[item_features['item_id'][i]] = 0\n",
    "                \n",
    "        return item_id_to_ctm\n",
    "                \n",
    "    # Словарь цен\n",
    "    @staticmethod\n",
    "    def _prepare_prices_dict(data):\n",
    "        prices = data.groupby('item_id').agg({\n",
    "            'sales_value' : 'sum', \n",
    "            'quantity': 'sum'\n",
    "            }).reset_index()\n",
    "    \n",
    "        prices['price'] = prices['sales_value'] / prices['quantity']\n",
    "        prices.loc[prices['quantity'] == 0, 'price'] = 0\n",
    "        prices.sort_values('price', ascending=True, inplace=True)\n",
    "\n",
    "        prices_dict = dict(zip(prices['item_id'], prices['price']))\n",
    "        \n",
    "        return prices_dict\n",
    "    \n",
    "    # Словарь предыдущих покупок пользователя\n",
    "    @staticmethod\n",
    "    def _prepare_bought_items_dict(data):\n",
    "        bought_items = data.groupby('user_id')['item_id'].unique().reset_index()\n",
    "        bought_items_dict = dict(zip(bought_items['user_id'], bought_items['item_id']))\n",
    "        \n",
    "        return bought_items_dict\n",
    "    \n",
    "    @staticmethod\n",
    "    def _get_high_mean_cheque_users(data):\n",
    "        users_purchases = data.groupby(['user_id', 'item_id']).agg({\n",
    "            'sales_value' : 'sum', \n",
    "            'quantity': 'sum'}).reset_index()\n",
    "        users_purchases['price'] = users_purchases['sales_value'] / users_purchases['quantity']\n",
    "        users_purchases_mean_price = users_purchases.groupby('user_id')['price'].mean().reset_index()\n",
    "        high_mean_cheque_users = users_purchases_mean_price[users_purchases_mean_price['price'] > 4.5]['user_id'].unique().tolist()\n",
    "        \n",
    "        return high_mean_cheque_users\n",
    "    \n",
    "    @staticmethod\n",
    "    def _get_vip_users(data):\n",
    "        users_purchases = data.groupby(['user_id', 'item_id']).agg({\n",
    "            'sales_value' : 'sum', \n",
    "            'quantity': 'sum'}).reset_index()\n",
    "        users_purchases['price'] = users_purchases['sales_value'] / users_purchases['quantity']\n",
    "        users_purchases['price_flag'] = users_purchases['price'].apply(lambda x: 1 if x > 4.5 else 0)\n",
    "        flags_count = users_purchases.groupby('user_id').agg({\n",
    "            'item_id': 'count',\n",
    "            'price_flag': 'sum'}).reset_index()\n",
    "        flags_count['part_more_4_5'] = flags_count['price_flag'] / flags_count['item_id']\n",
    "        vip_users =  flags_count[flags_count['part_more_4_5'] > 0.3]['user_id'].unique().tolist()\n",
    "        \n",
    "        return vip_users\n",
    "\n",
    "    @staticmethod\n",
    "    def fit_own_recommender(user_item_matrix):\n",
    "        \"\"\"Обучает модель, которая рекомендует товары, среди товаров, купленных юзером\"\"\"\n",
    "\n",
    "        own_recommender = ItemItemRecommender(K=1, num_threads=4)\n",
    "        own_recommender.fit(csr_matrix(user_item_matrix).T.tocsr())\n",
    "\n",
    "        return own_recommender\n",
    "    \n",
    "    @staticmethod\n",
    "    def fit_knn_recommender(user_item_matrix):\n",
    "        \"\"\"Обучает модель, которая рекомендует товары, среди товаров, купленных ближайшими соседями\"\"\"\n",
    "\n",
    "        knn_recommender = ItemItemRecommender(K=5, num_threads=4)\n",
    "        knn_recommender.fit(csr_matrix(user_item_matrix).T.tocsr())\n",
    "\n",
    "        return knn_recommender\n",
    "    \n",
    "    @staticmethod\n",
    "    def fit_cosine_recommender(user_item_matrix):\n",
    "        \"\"\"Обучает модель, которая рекомендует товары по косинусной схожести\"\"\"\n",
    "\n",
    "        cosine_recommender = CosineRecommender(K=5, num_threads=4)\n",
    "        cosine_recommender.fit(csr_matrix(user_item_matrix).T.tocsr())\n",
    "\n",
    "        return cosine_recommender\n",
    "    \n",
    "    @staticmethod\n",
    "    def fit_tfidf_recommender(user_item_matrix):\n",
    "        \"\"\"Обучает модель, которая рекомендует товары, занижая вес популярных\"\"\"\n",
    "\n",
    "        tfidf_recommender = TFIDFRecommender(K=5, num_threads=4)\n",
    "        tfidf_recommender.fit(csr_matrix(user_item_matrix).T.tocsr())\n",
    "\n",
    "        return tfidf_recommender\n",
    "\n",
    "    @staticmethod\n",
    "    def fit_als(user_item_matrix, n_factors=20, regularization=0.001, iterations=10, num_threads=4):\n",
    "        \"\"\"Обучает ALS\"\"\"\n",
    "\n",
    "        model_als = AlternatingLeastSquares(factors=n_factors,\n",
    "                                        regularization=regularization,\n",
    "                                        iterations=iterations,\n",
    "                                        num_threads=num_threads)\n",
    "        model_als.fit(csr_matrix(user_item_matrix).T.tocsr())\n",
    "\n",
    "        return model_als\n",
    "    \n",
    "    @staticmethod\n",
    "    def fit_bpr(user_item_matrix, n_factors=20, regularization=0.001, iterations=10, num_threads=4):\n",
    "        \"\"\"Обучает BPR\"\"\"\n",
    "\n",
    "        model_bpr = BayesianPersonalizedRanking(factors=n_factors,\n",
    "                                                regularization=regularization,\n",
    "                                                iterations=iterations,\n",
    "                                                num_threads=num_threads)\n",
    "        model_bpr.fit(csr_matrix(user_item_matrix).T.tocsr())\n",
    "\n",
    "        return model_bpr\n",
    "\n",
    "    \n",
    "    def _update_dict(self, user_id):\n",
    "        \"\"\"Если появился новыю user / item, то нужно обновить словари\"\"\"\n",
    "\n",
    "        if user_id not in self.userid_to_id.keys():\n",
    "\n",
    "            max_id = max(list(self.userid_to_id.values()))\n",
    "            max_id += 1\n",
    "\n",
    "            self.userid_to_id.update({user_id: max_id})\n",
    "            self.id_to_userid.update({max_id: user_id})\n",
    "\n",
    "    def _get_similar_item(self, item_id):\n",
    "        \"\"\"Находит товар, похожий на item_id\"\"\"\n",
    "        recs = self.model.similar_items(self.itemid_to_id[item_id], N=2)  # Товар похож на себя -> рекомендуем 2 товара\n",
    "        top_rec = recs[1][0]  # И берем второй (не товар из аргумента метода)\n",
    "        return self.id_to_itemid[top_rec]\n",
    "\n",
    "    def _extend_with_top_popular(self, recommendations, N=5):\n",
    "        \"\"\"Если кол-во рекоммендаций < N, то дополняем их топ-популярными\"\"\"\n",
    "\n",
    "        if len(recommendations) < N:\n",
    "            recommendations.extend(self.overall_top_purchases[:N])\n",
    "            recommendations = recommendations[:N]\n",
    "\n",
    "        return recommendations\n",
    "\n",
    "    def _get_recommendations(self, user, model, N=5):\n",
    "        \"\"\"Рекомендации через стардартные библиотеки implicit\"\"\"\n",
    "\n",
    "        self._update_dict(user_id=user)\n",
    "        if user in self.matrix_index:\n",
    "            res = [self.id_to_itemid[rec[0]] for rec in model.recommend(userid=self.userid_to_id[user],\n",
    "                                        user_items=csr_matrix(self.user_item_matrix).tocsr(),\n",
    "                                        N=N,\n",
    "                                        filter_already_liked_items=False,\n",
    "                                        filter_items=[self.itemid_to_id[9999999]],#None, если не вводим фиктивный item_id\n",
    "                                        recalculate_user=False)]\n",
    "        else:\n",
    "            res = []\n",
    "\n",
    "        res = self._extend_with_top_popular(res, N=N)\n",
    "\n",
    "        assert len(res) == N, 'Количество рекомендаций != {}'.format(N)\n",
    "        return res\n",
    "\n",
    "    def get_als_recommendations(self, user, N=5):\n",
    "        \"\"\"Рекомендации через стандартные библиотеки implicit\"\"\"\n",
    "\n",
    "        self._update_dict(user_id=user)\n",
    "        return self._get_recommendations(user, model=self.model_als, N=N)\n",
    "    \n",
    "    def get_bpr_recommendations(self, user, N=5):\n",
    "        \"\"\"Рекомендации через стандартные библиотеки implicit\"\"\"\n",
    "\n",
    "        self._update_dict(user_id=user)\n",
    "        return self._get_recommendations(user, model=self.model_bpr, N=N)\n",
    "\n",
    "    def get_own_recommendations(self, user, N=5):\n",
    "        \"\"\"Рекомендуем товары среди тех, которые юзер уже купил\"\"\"\n",
    "\n",
    "        self._update_dict(user_id=user)\n",
    "        return self._get_recommendations(user, model=self.own_recommender, N=N)\n",
    "    \n",
    "    def get_knn_recommendations(self, user, N=5):\n",
    "        \"\"\"Рекомендуем товары среди тех, которые купили ближайшие соседи\"\"\"\n",
    "\n",
    "        self._update_dict(user_id=user)\n",
    "        return self._get_recommendations(user, model=self.knn_recommender, N=N)\n",
    "    \n",
    "    def get_cosine_recommendations(self, user, N=5):\n",
    "        \"\"\"Рекомендуем товары по косинусной схожести\"\"\"\n",
    "\n",
    "        self._update_dict(user_id=user)\n",
    "        return self._get_recommendations(user, model=self.cosine_recommender, N=N)\n",
    "    \n",
    "    def get_tfidf_recommendations(self, user, N=5):\n",
    "        \"\"\"Рекомендуем товары, занижая вес популярных\"\"\"\n",
    "\n",
    "        self._update_dict(user_id=user)\n",
    "        return self._get_recommendations(user, model=self.tfidf_recommender, N=N)\n",
    "\n",
    "    def get_similar_items_recommendation(self, user, N=5):\n",
    "        \"\"\"Рекомендуем товары, похожие на топ-N купленных юзером товаров\"\"\"\n",
    "        if filter_ctm:\n",
    "            ctm = [key for key, value in self.item_id_to_ctm.items() if value == 1]\n",
    "            top_users_purchases = self.top_purchases[self.top_purchases['user_id'] == user].head(N)\n",
    "            top_users_purchases = top_users_purchases[top_users_purchases['item_id'].isin(ctm)]\n",
    "\n",
    "        else:\n",
    "            top_users_purchases = self.top_purchases[self.top_purchases['user_id'] == user].head(N)\n",
    "\n",
    "        res = top_users_purchases['item_id'].apply(lambda x: self._get_similar_item(x)).tolist()\n",
    "        res = self._extend_with_top_popular(res, N=N)\n",
    "\n",
    "        assert len(res) == N, 'Количество рекомендаций != {}'.format(N)\n",
    "        return res\n",
    "\n",
    "    def get_similar_users_recommendation(self, user, N=5):\n",
    "        \"\"\"Рекомендуем топ-N товаров, среди купленных похожими юзерами\"\"\"\n",
    "\n",
    "        res = []\n",
    "\n",
    "        # Находим топ-N похожих пользователей\n",
    "        similar_users = self.model.similar_users(self.userid_to_id[user], N=N+1)\n",
    "        similar_users = [rec[0] for rec in similar_users]\n",
    "        similar_users = similar_users[1:]   # удалим юзера из запроса\n",
    "\n",
    "        for user in similar_users:\n",
    "            res.extend(self.get_own_recommendations(user, N=1))\n",
    "\n",
    "        res = self._extend_with_top_popular(res, N=N)\n",
    "\n",
    "        assert len(res) == N, 'Количество рекомендаций != {}'.format(N)\n",
    "        \n",
    "        return res"
   ]
  },
  {
   "cell_type": "markdown",
   "metadata": {},
   "source": [
    "# Загрузка данных"
   ]
  },
  {
   "cell_type": "code",
   "execution_count": 6,
   "metadata": {},
   "outputs": [
    {
     "data": {
      "text/html": [
       "<div>\n",
       "<style scoped>\n",
       "    .dataframe tbody tr th:only-of-type {\n",
       "        vertical-align: middle;\n",
       "    }\n",
       "\n",
       "    .dataframe tbody tr th {\n",
       "        vertical-align: top;\n",
       "    }\n",
       "\n",
       "    .dataframe thead th {\n",
       "        text-align: right;\n",
       "    }\n",
       "</style>\n",
       "<table border=\"1\" class=\"dataframe\">\n",
       "  <thead>\n",
       "    <tr style=\"text-align: right;\">\n",
       "      <th></th>\n",
       "      <th>user_id</th>\n",
       "      <th>basket_id</th>\n",
       "      <th>day</th>\n",
       "      <th>item_id</th>\n",
       "      <th>quantity</th>\n",
       "      <th>sales_value</th>\n",
       "      <th>store_id</th>\n",
       "      <th>retail_disc</th>\n",
       "      <th>trans_time</th>\n",
       "      <th>week_no</th>\n",
       "      <th>coupon_disc</th>\n",
       "      <th>coupon_match_disc</th>\n",
       "    </tr>\n",
       "  </thead>\n",
       "  <tbody>\n",
       "    <tr>\n",
       "      <th>0</th>\n",
       "      <td>2375</td>\n",
       "      <td>26984851472</td>\n",
       "      <td>1</td>\n",
       "      <td>1004906</td>\n",
       "      <td>1</td>\n",
       "      <td>1.39</td>\n",
       "      <td>364</td>\n",
       "      <td>-0.6</td>\n",
       "      <td>1631</td>\n",
       "      <td>1</td>\n",
       "      <td>0.0</td>\n",
       "      <td>0.0</td>\n",
       "    </tr>\n",
       "    <tr>\n",
       "      <th>1</th>\n",
       "      <td>2375</td>\n",
       "      <td>26984851472</td>\n",
       "      <td>1</td>\n",
       "      <td>1033142</td>\n",
       "      <td>1</td>\n",
       "      <td>0.82</td>\n",
       "      <td>364</td>\n",
       "      <td>0.0</td>\n",
       "      <td>1631</td>\n",
       "      <td>1</td>\n",
       "      <td>0.0</td>\n",
       "      <td>0.0</td>\n",
       "    </tr>\n",
       "  </tbody>\n",
       "</table>\n",
       "</div>"
      ],
      "text/plain": [
       "   user_id    basket_id  day  item_id  quantity  sales_value  store_id  \\\n",
       "0     2375  26984851472    1  1004906         1         1.39       364   \n",
       "1     2375  26984851472    1  1033142         1         0.82       364   \n",
       "\n",
       "   retail_disc  trans_time  week_no  coupon_disc  coupon_match_disc  \n",
       "0         -0.6        1631        1          0.0                0.0  \n",
       "1          0.0        1631        1          0.0                0.0  "
      ]
     },
     "execution_count": 6,
     "metadata": {},
     "output_type": "execute_result"
    }
   ],
   "source": [
    "data = pd.read_csv('../data/retail_train.csv')\n",
    "item_features = pd.read_csv('../data/product.csv')\n",
    "user_features = pd.read_csv('../data/hh_demographic.csv')\n",
    "data.head(2)"
   ]
  },
  {
   "cell_type": "code",
   "execution_count": 7,
   "metadata": {},
   "outputs": [
    {
     "data": {
      "text/html": [
       "<div>\n",
       "<style scoped>\n",
       "    .dataframe tbody tr th:only-of-type {\n",
       "        vertical-align: middle;\n",
       "    }\n",
       "\n",
       "    .dataframe tbody tr th {\n",
       "        vertical-align: top;\n",
       "    }\n",
       "\n",
       "    .dataframe thead th {\n",
       "        text-align: right;\n",
       "    }\n",
       "</style>\n",
       "<table border=\"1\" class=\"dataframe\">\n",
       "  <thead>\n",
       "    <tr style=\"text-align: right;\">\n",
       "      <th></th>\n",
       "      <th>item_id</th>\n",
       "      <th>manufacturer</th>\n",
       "      <th>department</th>\n",
       "      <th>brand</th>\n",
       "      <th>commodity_desc</th>\n",
       "      <th>sub_commodity_desc</th>\n",
       "      <th>curr_size_of_product</th>\n",
       "    </tr>\n",
       "  </thead>\n",
       "  <tbody>\n",
       "    <tr>\n",
       "      <th>0</th>\n",
       "      <td>25671</td>\n",
       "      <td>2</td>\n",
       "      <td>GROCERY</td>\n",
       "      <td>National</td>\n",
       "      <td>FRZN ICE</td>\n",
       "      <td>ICE - CRUSHED/CUBED</td>\n",
       "      <td>22 LB</td>\n",
       "    </tr>\n",
       "    <tr>\n",
       "      <th>1</th>\n",
       "      <td>26081</td>\n",
       "      <td>2</td>\n",
       "      <td>MISC. TRANS.</td>\n",
       "      <td>National</td>\n",
       "      <td>NO COMMODITY DESCRIPTION</td>\n",
       "      <td>NO SUBCOMMODITY DESCRIPTION</td>\n",
       "      <td></td>\n",
       "    </tr>\n",
       "  </tbody>\n",
       "</table>\n",
       "</div>"
      ],
      "text/plain": [
       "   item_id  manufacturer    department     brand            commodity_desc  \\\n",
       "0    25671             2       GROCERY  National                  FRZN ICE   \n",
       "1    26081             2  MISC. TRANS.  National  NO COMMODITY DESCRIPTION   \n",
       "\n",
       "            sub_commodity_desc curr_size_of_product  \n",
       "0          ICE - CRUSHED/CUBED                22 LB  \n",
       "1  NO SUBCOMMODITY DESCRIPTION                       "
      ]
     },
     "execution_count": 7,
     "metadata": {},
     "output_type": "execute_result"
    }
   ],
   "source": [
    "# column processing\n",
    "item_features.columns = [col.lower() for col in item_features.columns]\n",
    "user_features.columns = [col.lower() for col in user_features.columns]\n",
    "\n",
    "item_features.rename(columns={'product_id': 'item_id'}, inplace=True)\n",
    "user_features.rename(columns={'household_key': 'user_id'}, inplace=True)\n",
    "item_features.head(2)"
   ]
  },
  {
   "cell_type": "code",
   "execution_count": 8,
   "metadata": {},
   "outputs": [],
   "source": [
    "# spliting data\n",
    "test_size_weeks = 3\n",
    "\n",
    "train_data = data[data['week_no'] < data['week_no'].max() - test_size_weeks]\n",
    "test_data = data[data['week_no'] >= data['week_no'].max() - test_size_weeks]"
   ]
  },
  {
   "cell_type": "code",
   "execution_count": 9,
   "metadata": {},
   "outputs": [
    {
     "name": "stdout",
     "output_type": "stream",
     "text": [
      "Decreased # items from 86865 to 21595\n"
     ]
    }
   ],
   "source": [
    "# filtering data\n",
    "n_items_before = train_data['item_id'].nunique()\n",
    "\n",
    "train_data = prefilter_items(train_data, \n",
    "                             item_features=item_features, \n",
    "                             resent_weeks=12, \n",
    "                             filter_frequency=False, \n",
    "                             cheap_filter=False, \n",
    "                             rare_department_filter=False, \n",
    "                             popular_filter=True, \n",
    "                             take_n_popular=22000)\n",
    "\n",
    "n_items_after = train_data['item_id'].nunique()\n",
    "print('Decreased # items from {} to {}'.format(n_items_before, n_items_after))"
   ]
  },
  {
   "cell_type": "code",
   "execution_count": 10,
   "metadata": {},
   "outputs": [
    {
     "name": "stderr",
     "output_type": "stream",
     "text": [
      "WARNING:root:Intel MKL BLAS detected. Its highly recommend to set the environment variable 'export MKL_NUM_THREADS=1' to disable its internal multithreading\n"
     ]
    },
    {
     "data": {
      "application/vnd.jupyter.widget-view+json": {
       "model_id": "cbe8b66253e44c4f8cc18b8d5018275b",
       "version_major": 2,
       "version_minor": 0
      },
      "text/plain": [
       "HBox(children=(FloatProgress(value=0.0, max=10.0), HTML(value='')))"
      ]
     },
     "metadata": {},
     "output_type": "display_data"
    },
    {
     "name": "stdout",
     "output_type": "stream",
     "text": [
      "\n"
     ]
    },
    {
     "data": {
      "application/vnd.jupyter.widget-view+json": {
       "model_id": "08dff93060ba4c12979613def25ada89",
       "version_major": 2,
       "version_minor": 0
      },
      "text/plain": [
       "HBox(children=(FloatProgress(value=0.0, max=10.0), HTML(value='')))"
      ]
     },
     "metadata": {},
     "output_type": "display_data"
    },
    {
     "name": "stdout",
     "output_type": "stream",
     "text": [
      "\n"
     ]
    },
    {
     "data": {
      "application/vnd.jupyter.widget-view+json": {
       "model_id": "14f867a5972b4686936df5e8256366b6",
       "version_major": 2,
       "version_minor": 0
      },
      "text/plain": [
       "HBox(children=(FloatProgress(value=0.0, max=21595.0), HTML(value='')))"
      ]
     },
     "metadata": {},
     "output_type": "display_data"
    },
    {
     "name": "stdout",
     "output_type": "stream",
     "text": [
      "\n"
     ]
    },
    {
     "data": {
      "application/vnd.jupyter.widget-view+json": {
       "model_id": "dfa2f505750e4c0b931a6d529819e052",
       "version_major": 2,
       "version_minor": 0
      },
      "text/plain": [
       "HBox(children=(FloatProgress(value=0.0, max=21595.0), HTML(value='')))"
      ]
     },
     "metadata": {},
     "output_type": "display_data"
    },
    {
     "name": "stdout",
     "output_type": "stream",
     "text": [
      "\n"
     ]
    },
    {
     "data": {
      "application/vnd.jupyter.widget-view+json": {
       "model_id": "a93ce1393d9c4a7eb0d339c33fdedf55",
       "version_major": 2,
       "version_minor": 0
      },
      "text/plain": [
       "HBox(children=(FloatProgress(value=0.0, max=21595.0), HTML(value='')))"
      ]
     },
     "metadata": {},
     "output_type": "display_data"
    },
    {
     "name": "stdout",
     "output_type": "stream",
     "text": [
      "\n"
     ]
    },
    {
     "data": {
      "application/vnd.jupyter.widget-view+json": {
       "model_id": "1be71e6025ef479ea78f736e85268313",
       "version_major": 2,
       "version_minor": 0
      },
      "text/plain": [
       "HBox(children=(FloatProgress(value=0.0, max=21595.0), HTML(value='')))"
      ]
     },
     "metadata": {},
     "output_type": "display_data"
    },
    {
     "name": "stdout",
     "output_type": "stream",
     "text": [
      "\n"
     ]
    }
   ],
   "source": [
    "recommender = MainRecommender(train_data, item_features, user_features)"
   ]
  },
  {
   "cell_type": "code",
   "execution_count": 11,
   "metadata": {},
   "outputs": [
    {
     "data": {
      "text/html": [
       "<div>\n",
       "<style scoped>\n",
       "    .dataframe tbody tr th:only-of-type {\n",
       "        vertical-align: middle;\n",
       "    }\n",
       "\n",
       "    .dataframe tbody tr th {\n",
       "        vertical-align: top;\n",
       "    }\n",
       "\n",
       "    .dataframe thead th {\n",
       "        text-align: right;\n",
       "    }\n",
       "</style>\n",
       "<table border=\"1\" class=\"dataframe\">\n",
       "  <thead>\n",
       "    <tr style=\"text-align: right;\">\n",
       "      <th></th>\n",
       "      <th>user_id</th>\n",
       "      <th>actual</th>\n",
       "    </tr>\n",
       "  </thead>\n",
       "  <tbody>\n",
       "    <tr>\n",
       "      <th>0</th>\n",
       "      <td>1</td>\n",
       "      <td>[821867, 834484, 856942, 865456, 889248, 90795...</td>\n",
       "    </tr>\n",
       "    <tr>\n",
       "      <th>1</th>\n",
       "      <td>3</td>\n",
       "      <td>[835476, 851057, 872021, 878302, 879948, 90963...</td>\n",
       "    </tr>\n",
       "  </tbody>\n",
       "</table>\n",
       "</div>"
      ],
      "text/plain": [
       "   user_id                                             actual\n",
       "0        1  [821867, 834484, 856942, 865456, 889248, 90795...\n",
       "1        3  [835476, 851057, 872021, 878302, 879948, 90963..."
      ]
     },
     "execution_count": 11,
     "metadata": {},
     "output_type": "execute_result"
    }
   ],
   "source": [
    "result = test_data.groupby('user_id')['item_id'].unique().reset_index()\n",
    "result.columns=['user_id', 'actual']\n",
    "result.head(2)"
   ]
  },
  {
   "cell_type": "code",
   "execution_count": 12,
   "metadata": {},
   "outputs": [],
   "source": [
    "N = 110\n",
    "top_popular_items = recommender.overall_top_purchases[:N]\n",
    "train_users_list = train_data['user_id'].unique().tolist()"
   ]
  },
  {
   "cell_type": "code",
   "execution_count": 13,
   "metadata": {},
   "outputs": [],
   "source": [
    "result['self_top_recs'] = result['user_id'].apply(lambda x: recommender.top_purchases[recommender.top_purchases['user_id'] == x]['item_id'].unique() if x in train_users_list else top_popular_items)"
   ]
  },
  {
   "cell_type": "code",
   "execution_count": 14,
   "metadata": {},
   "outputs": [],
   "source": [
    "result['als_recs'] = result['user_id'].apply(lambda x: recommender.get_als_recommendations(user=x, N=N) if x in train_users_list else top_popular_items)"
   ]
  },
  {
   "cell_type": "code",
   "execution_count": 15,
   "metadata": {},
   "outputs": [],
   "source": [
    "result['bpr_recs'] = result['user_id'].apply(lambda x: recommender.get_bpr_recommendations(user=x, N=N) if x in train_users_list else top_popular_items)"
   ]
  },
  {
   "cell_type": "code",
   "execution_count": 16,
   "metadata": {},
   "outputs": [],
   "source": [
    "result['own_recs'] = result['user_id'].apply(lambda x: recommender.get_own_recommendations(user=x, N=N) if x in train_users_list else top_popular_items)"
   ]
  },
  {
   "cell_type": "code",
   "execution_count": 17,
   "metadata": {},
   "outputs": [],
   "source": [
    "result['knn_recs'] = result['user_id'].apply(lambda x: recommender.get_knn_recommendations(user=x, N=N) if x in train_users_list else top_popular_items)"
   ]
  },
  {
   "cell_type": "code",
   "execution_count": 18,
   "metadata": {},
   "outputs": [],
   "source": [
    "result['cosine_recs'] = result['user_id'].apply(lambda x: recommender.get_cosine_recommendations(user=x, N=N) if x in train_users_list else top_popular_items)"
   ]
  },
  {
   "cell_type": "code",
   "execution_count": 19,
   "metadata": {},
   "outputs": [],
   "source": [
    "result['tfidf_recs'] = result['user_id'].apply(lambda x: recommender.get_tfidf_recommendations(user=x, N=N) if x in train_users_list else top_popular_items)"
   ]
  },
  {
   "cell_type": "code",
   "execution_count": null,
   "metadata": {},
   "outputs": [],
   "source": []
  },
  {
   "cell_type": "code",
   "execution_count": 20,
   "metadata": {},
   "outputs": [
    {
     "name": "stdout",
     "output_type": "stream",
     "text": [
      "Wall time: 1min 12s\n"
     ]
    }
   ],
   "source": [
    "%%time\n",
    "result['final_self_top_recs'] = result.apply(lambda row: postfilter_items(row['self_top_recs'], \n",
    "                                                                            row['user_id'], \n",
    "                                                                            recommender.vip_users,\n",
    "                                                                            recommender.bought_items_dict, \n",
    "                                                                            top_popular_items,\n",
    "                                                                            recommender.overall_top_expensive_purchases,\n",
    "                                                                            recommender.top_expensive_item,\n",
    "                                                                            item_features, \n",
    "                                                                            recommender.prices_dict, \n",
    "                                                                            N=5,\n",
    "                                                                            money_rank=False,\n",
    "                                                                            divide_users=True), axis=1)"
   ]
  },
  {
   "cell_type": "code",
   "execution_count": 21,
   "metadata": {},
   "outputs": [],
   "source": [
    "result['final_als_recs'] = result.apply(lambda row: postfilter_items(row['als_recs'], row['user_id'], \n",
    "                                                                            recommender.vip_users,\n",
    "                                                                            recommender.bought_items_dict, \n",
    "                                                                            top_popular_items,\n",
    "                                                                            recommender.overall_top_expensive_purchases,\n",
    "                                                                            recommender.top_expensive_item,\n",
    "                                                                            item_features, \n",
    "                                                                            recommender.prices_dict, \n",
    "                                                                            N=5,\n",
    "                                                                            money_rank=False,\n",
    "                                                                            divide_users=True), axis=1)"
   ]
  },
  {
   "cell_type": "code",
   "execution_count": 22,
   "metadata": {},
   "outputs": [],
   "source": [
    "result['final_bpr_recs'] = result.apply(lambda row: postfilter_items(row['bpr_recs'], row['user_id'], \n",
    "                                                                            recommender.vip_users,\n",
    "                                                                            recommender.bought_items_dict, \n",
    "                                                                            top_popular_items,\n",
    "                                                                            recommender.overall_top_expensive_purchases,\n",
    "                                                                            recommender.top_expensive_item,\n",
    "                                                                            item_features, \n",
    "                                                                            recommender.prices_dict, \n",
    "                                                                            N=5,\n",
    "                                                                            money_rank=False,\n",
    "                                                                            divide_users=True), axis=1)"
   ]
  },
  {
   "cell_type": "code",
   "execution_count": 23,
   "metadata": {},
   "outputs": [],
   "source": [
    "result['final_own_recs'] = result.apply(lambda row: postfilter_items(row['own_recs'], row['user_id'], \n",
    "                                                                            recommender.vip_users,\n",
    "                                                                            recommender.bought_items_dict, \n",
    "                                                                            top_popular_items,\n",
    "                                                                            recommender.overall_top_expensive_purchases,\n",
    "                                                                            recommender.top_expensive_item,\n",
    "                                                                            item_features, \n",
    "                                                                            recommender.prices_dict, \n",
    "                                                                            N=5,\n",
    "                                                                            money_rank=False,\n",
    "                                                                            divide_users=True), axis=1)"
   ]
  },
  {
   "cell_type": "code",
   "execution_count": 25,
   "metadata": {},
   "outputs": [],
   "source": [
    "result['final_knn_recs'] = result.apply(lambda row: postfilter_items(row['knn_recs'], row['user_id'], \n",
    "                                                                            recommender.vip_users,\n",
    "                                                                            recommender.bought_items_dict, \n",
    "                                                                            top_popular_items,\n",
    "                                                                            recommender.overall_top_expensive_purchases,\n",
    "                                                                            recommender.top_expensive_item,\n",
    "                                                                            item_features, \n",
    "                                                                            recommender.prices_dict, \n",
    "                                                                            N=5,\n",
    "                                                                            money_rank=False,\n",
    "                                                                            divide_users=True), axis=1)"
   ]
  },
  {
   "cell_type": "code",
   "execution_count": 26,
   "metadata": {},
   "outputs": [],
   "source": [
    "result['final_cosine_recs'] = result.apply(lambda row: postfilter_items(row['cosine_recs'], row['user_id'], \n",
    "                                                                            recommender.vip_users,\n",
    "                                                                            recommender.bought_items_dict, \n",
    "                                                                            top_popular_items,\n",
    "                                                                            recommender.overall_top_expensive_purchases,\n",
    "                                                                            recommender.top_expensive_item,\n",
    "                                                                            item_features, \n",
    "                                                                            recommender.prices_dict, \n",
    "                                                                            N=5,\n",
    "                                                                            money_rank=False,\n",
    "                                                                            divide_users=True), axis=1)"
   ]
  },
  {
   "cell_type": "code",
   "execution_count": 27,
   "metadata": {},
   "outputs": [],
   "source": [
    "# похоже, единственная функция, возвращающая списки меньше 5\n",
    "result['final_tfidf_recs'] = result.apply(lambda row: postfilter_items(row['tfidf_recs'], row['user_id'], \n",
    "                                                                            recommender.vip_users,\n",
    "                                                                            recommender.bought_items_dict, \n",
    "                                                                            top_popular_items,\n",
    "                                                                            recommender.overall_top_expensive_purchases,\n",
    "                                                                            recommender.top_expensive_item,\n",
    "                                                                            item_features, \n",
    "                                                                            recommender.prices_dict,\n",
    "                                                                            N=5,\n",
    "                                                                            money_rank=False,\n",
    "                                                                            divide_users=True), axis=1)"
   ]
  },
  {
   "cell_type": "code",
   "execution_count": null,
   "metadata": {},
   "outputs": [],
   "source": []
  },
  {
   "cell_type": "code",
   "execution_count": 28,
   "metadata": {
    "scrolled": true
   },
   "outputs": [
    {
     "data": {
      "text/plain": [
       "0.20003298012533735"
      ]
     },
     "execution_count": 28,
     "metadata": {},
     "output_type": "execute_result"
    }
   ],
   "source": [
    "result.apply(lambda row: money_precision_at_k(row['final_self_top_recs'], row['actual'], recommender.prices_dict, k=5), axis=1).mean()"
   ]
  },
  {
   "cell_type": "code",
   "execution_count": 29,
   "metadata": {},
   "outputs": [
    {
     "data": {
      "text/plain": [
       "0.07918718428614631"
      ]
     },
     "execution_count": 29,
     "metadata": {},
     "output_type": "execute_result"
    }
   ],
   "source": [
    "result.apply(lambda row: money_precision_at_k(row['final_als_recs'], row['actual'], recommender.prices_dict, k=5), axis=1).mean()"
   ]
  },
  {
   "cell_type": "code",
   "execution_count": 30,
   "metadata": {},
   "outputs": [
    {
     "data": {
      "text/plain": [
       "0.05711043380214204"
      ]
     },
     "execution_count": 30,
     "metadata": {},
     "output_type": "execute_result"
    }
   ],
   "source": [
    "result.apply(lambda row: money_precision_at_k(row['final_bpr_recs'], row['actual'], recommender.prices_dict, k=5), axis=1).mean()"
   ]
  },
  {
   "cell_type": "code",
   "execution_count": 31,
   "metadata": {},
   "outputs": [
    {
     "data": {
      "text/plain": [
       "0.07688712382952065"
      ]
     },
     "execution_count": 31,
     "metadata": {},
     "output_type": "execute_result"
    }
   ],
   "source": [
    "result.apply(lambda row: money_precision_at_k(row['final_own_recs'], row['actual'], recommender.prices_dict, k=5), axis=1).mean()"
   ]
  },
  {
   "cell_type": "code",
   "execution_count": 32,
   "metadata": {},
   "outputs": [
    {
     "data": {
      "text/plain": [
       "0.07938718231654371"
      ]
     },
     "execution_count": 32,
     "metadata": {},
     "output_type": "execute_result"
    }
   ],
   "source": [
    "result.apply(lambda row: money_precision_at_k(row['final_knn_recs'], row['actual'], recommender.prices_dict, k=5), axis=1).mean()"
   ]
  },
  {
   "cell_type": "code",
   "execution_count": 33,
   "metadata": {},
   "outputs": [
    {
     "data": {
      "text/plain": [
       "0.08149234122237256"
      ]
     },
     "execution_count": 33,
     "metadata": {},
     "output_type": "execute_result"
    }
   ],
   "source": [
    "result.apply(lambda row: money_precision_at_k(row['final_cosine_recs'], row['actual'], recommender.prices_dict, k=5), axis=1).mean()"
   ]
  },
  {
   "cell_type": "code",
   "execution_count": 34,
   "metadata": {},
   "outputs": [
    {
     "data": {
      "text/plain": [
       "0.06803543321442851"
      ]
     },
     "execution_count": 34,
     "metadata": {},
     "output_type": "execute_result"
    }
   ],
   "source": [
    "result.apply(lambda row: money_precision_at_k(row['final_tfidf_recs'], row['actual'], recommender.prices_dict, k=5), axis=1).mean()"
   ]
  },
  {
   "cell_type": "code",
   "execution_count": 35,
   "metadata": {},
   "outputs": [],
   "source": [
    "result['final_recs'] = result['final_self_top_recs']"
   ]
  },
  {
   "cell_type": "code",
   "execution_count": 36,
   "metadata": {},
   "outputs": [
    {
     "name": "stdout",
     "output_type": "stream",
     "text": [
      "Рекомендуем 2282 товаров\n"
     ]
    }
   ],
   "source": [
    "# всего товаров попало в рекомендации\n",
    "all_recs = []\n",
    "for i in range(result.shape[0]):\n",
    "    for item in result['final_recs'][i]:\n",
    "        if item not in all_recs:\n",
    "            all_recs.append(item)\n",
    "print(f'Рекомендуем {len(all_recs)} товаров')"
   ]
  },
  {
   "cell_type": "code",
   "execution_count": 37,
   "metadata": {},
   "outputs": [],
   "source": [
    "# Проверяем категории:\n",
    "for i in range(result.shape[0]):\n",
    "    category_list = [] \n",
    "    for item in result['final_recs'][i]:\n",
    "        category = item_features.loc[item_features['item_id'] == item, 'sub_commodity_desc'].values[0]\n",
    "        category_list.append(category)\n",
    "    if len(set(category_list)) != 5:\n",
    "        print(f\"Для пользователя {result['user_id'][i]} нет 5 разных категорий\")"
   ]
  },
  {
   "cell_type": "code",
   "execution_count": 38,
   "metadata": {},
   "outputs": [],
   "source": [
    "# Проверяем наличие дорогого товара:\n",
    "for i in range(result.shape[0]):\n",
    "    prices_recommended = np.array([recommender.prices_dict[item] for item in result['final_recs'][i]])\n",
    "    res = [1 if price>7  else 0 for price in prices_recommended]\n",
    "    if sum(res) == 0:\n",
    "        print(f\"Для пользователя {result['user_id'][i]} нет дорогого товара\")"
   ]
  },
  {
   "cell_type": "code",
   "execution_count": 39,
   "metadata": {},
   "outputs": [],
   "source": [
    "# Проверяем наличие двух новых товаров:\n",
    "for i in range(result.shape[0]):\n",
    "    user_id = result['user_id'][i]\n",
    "    if user_id in recommender.bought_items_dict.keys():\n",
    "        user_bought_list = recommender.bought_items_dict[user_id]\n",
    "    else: \n",
    "        user_bought_list = []\n",
    "    flags = np.isin(result['final_recs'][i], user_bought_list)\n",
    "    if sum(flags) > 3:\n",
    "        print(f'Для пользователя {user_id} нет двух новых товаров')"
   ]
  },
  {
   "cell_type": "code",
   "execution_count": 40,
   "metadata": {},
   "outputs": [],
   "source": [
    "# Проверяем цены больше 1 долл.:\n",
    "for i in range(result.shape[0]):\n",
    "    prices_recommended = np.array([recommender.prices_dict[item] for item in result['final_recs'][i]])\n",
    "    res = [1 if price<1  else 0 for price in prices_recommended]\n",
    "    if sum(res) != 0:\n",
    "        print(f\"Для пользователя {result['user_id'][i]} есть товары с ценой меньше 1 долл\")"
   ]
  },
  {
   "cell_type": "code",
   "execution_count": null,
   "metadata": {},
   "outputs": [],
   "source": []
  },
  {
   "cell_type": "code",
   "execution_count": 41,
   "metadata": {},
   "outputs": [],
   "source": [
    "result[['user_id', 'final_recs']].to_csv('OBerezovskaya_recs_.csv', index=False)"
   ]
  },
  {
   "cell_type": "code",
   "execution_count": null,
   "metadata": {},
   "outputs": [],
   "source": []
  }
 ],
 "metadata": {
  "kernelspec": {
   "display_name": "Python 3",
   "language": "python",
   "name": "python3"
  },
  "language_info": {
   "codemirror_mode": {
    "name": "ipython",
    "version": 3
   },
   "file_extension": ".py",
   "mimetype": "text/x-python",
   "name": "python",
   "nbconvert_exporter": "python",
   "pygments_lexer": "ipython3",
   "version": "3.7.6"
  }
 },
 "nbformat": 4,
 "nbformat_minor": 4
}
